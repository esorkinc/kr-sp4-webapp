{
 "cells": [
  {
   "cell_type": "code",
   "execution_count": 4,
   "id": "f9c9fef0-fe7f-4263-8253-fba6ffc8002b",
   "metadata": {},
   "outputs": [],
   "source": [
    "##########################################\n",
    "# Date: February 2025\n",
    "# Author: Kirk Rose\n",
    "# Python filename: app.py\n",
    "##########################################"
   ]
  },
  {
   "cell_type": "code",
   "execution_count": 5,
   "id": "62b062b1-3cc4-4217-95a5-1eb8a9526688",
   "metadata": {},
   "outputs": [
    {
     "name": "stderr",
     "output_type": "stream",
     "text": [
      "2025-02-05 18:46:44.893 \n",
      "  \u001b[33m\u001b[1mWarning:\u001b[0m to view this Streamlit app on a browser, run it with the following\n",
      "  command:\n",
      "\n",
      "    streamlit run /usr/local/anaconda3/lib/python3.12/site-packages/ipykernel_launcher.py [ARGUMENTS]\n",
      "/Users/kirkrose/Developer/tripleten/Sprint 4/kr-sp4-webapp/notebooks/EDA.py:240: FutureWarning: DataFrame.applymap has been deprecated. Use DataFrame.map instead.\n",
      "  utilities_df_formatted[['zip']] = utilities_df_formatted[['zip']].applymap(lambda x: f\"{x:.6f}\" if isinstance(x, float) else str(x))\n",
      "/Users/kirkrose/Developer/tripleten/Sprint 4/kr-sp4-webapp/notebooks/EDA.py:359: FutureWarning: \n",
      "\n",
      "Passing `palette` without assigning `hue` is deprecated and will be removed in v0.14.0. Assign the `x` variable to `hue` and set `legend=False` for the same effect.\n",
      "\n",
      "  sns.barplot(x='state', y='num_utilities', data=utilities_per_state, palette='viridis')\n"
     ]
    },
    {
     "name": "stdout",
     "output_type": "stream",
     "text": [
      "Constructed CSV path: /Users/kirkrose/Developer/tripleten/Sprint 4/kr-sp4-webapp/electric_companies_and rates_2020.csv\n",
      "     zip  eiaid        utility_name state service_type       ownership  \\\n",
      "0  85321    176  Ajo Improvement Co    AZ      Bundled  Investor Owned   \n",
      "1  36560    195    Alabama Power Co    AL      Bundled  Investor Owned   \n",
      "2  36513    195    Alabama Power Co    AL      Bundled  Investor Owned   \n",
      "3  36280    195    Alabama Power Co    AL      Bundled  Investor Owned   \n",
      "4  35473    195    Alabama Power Co    AL      Bundled  Investor Owned   \n",
      "\n",
      "   comm_rate  ind_rate  res_rate  \n",
      "0   0.087890  0.000000  0.093887  \n",
      "1   0.121895  0.063652  0.135057  \n",
      "2   0.121895  0.063652  0.135057  \n",
      "3   0.121895  0.063652  0.135057  \n",
      "4   0.121895  0.063652  0.135057  \n",
      "\n",
      "\n",
      "Duplicates found: 0\n",
      "\n",
      "Missing found: zip             0\n",
      "eiaid           0\n",
      "utility_name    0\n",
      "state           0\n",
      "service_type    0\n",
      "ownership       0\n",
      "comm_rate       0\n",
      "ind_rate        0\n",
      "res_rate        0\n",
      "dtype: int64\n",
      "Column 'ind_rate' contains zero values.\n",
      "Column 'res_rate' contains zero values.\n"
     ]
    }
   ],
   "source": [
    "#import libraries\n",
    "import streamlit as st\n",
    "\n",
    "# Import your EDA module\n",
    "import notebooks.EDA as eda\n",
    "\n",
    "# create sidebar\n",
    "st.sidebar.write('')\n",
    "\n",
    "####################\n",
    "# MAIN PANEL\n",
    "####################\n",
    "\n",
    "eda. show_heading_and_overview()\n",
    "\n",
    "# Load dataframe\n",
    "eda.loadDataframe()\n",
    "\n",
    "eda.frontEnd_display_control_1()\n",
    "\n",
    "eda.frontEnd_display_control_2()\n",
    "\n",
    "# Analysis of Numerical Variables\n",
    "eda.frontEnd_display_control_3()\n",
    "\n",
    "# Analysis and Summary\n",
    "eda.frontEnd_display_control_4() \n",
    "\n",
    "# Thank you\n",
    "st.write(\":blue[Hope you enjoyed reading!]\")\n",
    "\n",
    "\n",
    "\n",
    "####################\n",
    "# SIDEBAR\n",
    "####################\n",
    "\n",
    "# Add a header to the sidebar\n",
    "st.sidebar.title(':green[Utility Rate Finder]')\n",
    "\n",
    "# Add a text input in the sidebar\n",
    "zip_code = st.sidebar.text_input(\"Enter Zip Code\")\n",
    "\n",
    "# Add a search button in the sidebar\n",
    "search_button = st.sidebar.button(\"Search\")\n",
    "\n",
    "# Optionally, you can also add other widgets like a button or text display\n",
    "if search_button:\n",
    "    zip_code = int(zip_code) if zip_code.isdigit() else None\n",
    "    if zip_code:\n",
    "        html_result = eda.get_zipCode_rate(zip_code)\n",
    "        # st.sidebar.write(f\"Zip Code entered: {zip_code}\")\n",
    "        st.sidebar.markdown(html_result, unsafe_allow_html=True)\n",
    "    else:\n",
    "        st.sidebar.error(\"Please enter a valid zip code.\")\n",
    "\n",
    "\n"
   ]
  },
  {
   "cell_type": "code",
   "execution_count": null,
   "id": "0e3eaa79-3739-4854-a154-4630a95a964c",
   "metadata": {},
   "outputs": [],
   "source": []
  },
  {
   "cell_type": "code",
   "execution_count": null,
   "id": "6484e337-824d-423f-9106-da52462bdc5a",
   "metadata": {},
   "outputs": [],
   "source": []
  }
 ],
 "metadata": {
  "kernelspec": {
   "display_name": "Python 3 (ipykernel)",
   "language": "python",
   "name": "python3"
  },
  "language_info": {
   "codemirror_mode": {
    "name": "ipython",
    "version": 3
   },
   "file_extension": ".py",
   "mimetype": "text/x-python",
   "name": "python",
   "nbconvert_exporter": "python",
   "pygments_lexer": "ipython3",
   "version": "3.12.2"
  }
 },
 "nbformat": 4,
 "nbformat_minor": 5
}
